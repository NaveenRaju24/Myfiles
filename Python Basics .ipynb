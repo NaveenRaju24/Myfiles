{
 "cells": [
  {
   "cell_type": "code",
   "execution_count": 53,
   "id": "569be3a5-1205-4666-a22a-a400354cf41d",
   "metadata": {},
   "outputs": [],
   "source": [
    "### Python Practice ###  "
   ]
  },
  {
   "cell_type": "code",
   "execution_count": 36,
   "id": "8e67e090-5d5b-443b-a46b-52d54d68e16a",
   "metadata": {},
   "outputs": [],
   "source": [
    "# is an interpreted language. It runs code line by line and stops execution at the first error, which helps in identifying and fixing issues quickly "
   ]
  },
  {
   "cell_type": "code",
   "execution_count": 37,
   "id": "c2bf22ae-9a89-4e6a-a93a-a394f9d696df",
   "metadata": {},
   "outputs": [],
   "source": [
    "#variable = start with letter , case sensitive , shld not be keyword name "
   ]
  },
  {
   "cell_type": "code",
   "execution_count": 38,
   "id": "9ccc7efd-2150-4837-b336-181ebe840e9e",
   "metadata": {},
   "outputs": [
    {
     "name": "stdout",
     "output_type": "stream",
     "text": [
      "Om Sai Ram\n"
     ]
    }
   ],
   "source": [
    "print(\"Om Sai Ram\")"
   ]
  },
  {
   "cell_type": "code",
   "execution_count": 39,
   "id": "8b74e7e4-f495-4e5d-8a36-c69d7d8752b5",
   "metadata": {},
   "outputs": [
    {
     "data": {
      "text/plain": [
       "int"
      ]
     },
     "execution_count": 39,
     "metadata": {},
     "output_type": "execute_result"
    }
   ],
   "source": [
    "# it interpret by itself , not required to declare any datatype \n",
    "a=1\n",
    "type(a)"
   ]
  },
  {
   "cell_type": "code",
   "execution_count": 40,
   "id": "86d6e173-cd3b-491d-abbc-29e59540e2c7",
   "metadata": {},
   "outputs": [
    {
     "name": "stdout",
     "output_type": "stream",
     "text": [
      "\n"
     ]
    }
   ],
   "source": [
    "### Assignments \n",
    "a=1              #basic assignment \n",
    "x,y=(10,20)      #Tuple assgmt\n",
    "c,d=[10,20]      #List assgmt\n",
    "e,f,g = 10,20,30 #Sequence assgmt \n",
    "h,*i= \"hello\"    #Extended Sequence unpacking assgmt\n",
    "j=k=1            #Multiple target assgmt\n",
    "l=8              #Augmented assgmt\n",
    "l+=1 #or l=l+1\n",
    "\n",
    "print ()"
   ]
  },
  {
   "cell_type": "code",
   "execution_count": 41,
   "id": "b330cf05-cb0a-4c1d-a4e2-42a45a655bb9",
   "metadata": {},
   "outputs": [
    {
     "name": "stdin",
     "output_type": "stream",
     "text": [
      "No. enter chei ra 10\n"
     ]
    }
   ],
   "source": [
    "### Input (we have to give/enter the value while executing)\n",
    "a=input(\"No. enter chei ra\")"
   ]
  },
  {
   "cell_type": "code",
   "execution_count": 25,
   "id": "7ac419d0-8dc7-4378-9063-e0d8156ad3c8",
   "metadata": {},
   "outputs": [
    {
     "name": "stdout",
     "output_type": "stream",
     "text": [
      "hello\n",
      "hello\n",
      "hii\n",
      "hello-hii\n",
      "hello hii\n",
      "1 is an Int nd 2.50 is a Float.\n",
      "['i', 'am', 'good']\n"
     ]
    }
   ],
   "source": [
    "### output \n",
    "print(\"hello\")\n",
    "print(\"hello\",\"hii\",sep=\"\\n\")      #For new line\n",
    "print(\"hello\",\"hii\",sep=\"-\")       #To get like this = hello-hii\n",
    "print(\"hello\",end=\" \")             # to get the below one in the same line \n",
    "print(\"hii\")\n",
    "a=1\n",
    "b=2.5\n",
    "print(\"%d is an Int nd %.2f is a Float.\"%(a,b)) # %d for int , %f for float(.2 is for getting 2 decimal points)\n",
    "t=\"i am good\"\n",
    "print(t.split())                   # to split the sentence \n"
   ]
  },
  {
   "cell_type": "code",
   "execution_count": null,
   "id": "624bc036-b44c-4d97-aa37-786197787039",
   "metadata": {},
   "outputs": [],
   "source": []
  },
  {
   "cell_type": "code",
   "execution_count": 43,
   "id": "cea27326-2f42-49a1-bfca-d50f269b0696",
   "metadata": {},
   "outputs": [
    {
     "name": "stdout",
     "output_type": "stream",
     "text": [
      "1\n",
      "3\n",
      "False\n",
      "True\n",
      "False\n",
      "True\n",
      "False\n",
      "True\n",
      "True\n",
      "False\n"
     ]
    }
   ],
   "source": [
    "### Operators \n",
    "\n",
    "# Arithmetic Operators (+, -, *, /, %, //, **)\n",
    "a = 10\n",
    "b = 3\n",
    "print(a % b)   # Modulus: 1\n",
    "print(a // b)  # Floor Division: 3\n",
    "\n",
    "# Comparison/Rational Operators (==, !=, >, <, >=, <=)\n",
    "\n",
    "# Logical Operators (and, or, not)\n",
    "p = True\n",
    "q = False\n",
    "print(p and q)  # False\n",
    "print(p or q)   # True\n",
    "print(not p)    # False\n",
    "\n",
    "# Assignment Operators (=, +=, -=, *=, /=, %=, **=, //=)\n",
    "num = 5\n",
    "num += 3   # num = num + 3 → 8\n",
    "num *= 2   # num = num * 2 → 12\n",
    "\n",
    "# Identity Operators (is, is not) , # Membership Operators (in, not in)\n",
    "x = [1, 2]\n",
    "y = x\n",
    "z = [1, 2]\n",
    "print(x is y)      # True\n",
    "print(x is z)      # False\n",
    "\n",
    "lst = [1, 2, 3]\n",
    "print(2 in lst)      # True\n",
    "print(4 not in lst)  # True\n",
    "print(4 in lst)\n"
   ]
  },
  {
   "cell_type": "code",
   "execution_count": null,
   "id": "6671faec-4860-4c9f-b019-b7ee74008e82",
   "metadata": {},
   "outputs": [],
   "source": []
  },
  {
   "cell_type": "code",
   "execution_count": 44,
   "id": "76267c69-c45c-464d-bc79-e3ca552c9798",
   "metadata": {},
   "outputs": [],
   "source": [
    "### Control Structures (to control the flow of execution)\n",
    "# I) Sequential, II) Conditional, III) Iterative looping, IV)Jumping/loop control stmts\n",
    "# Sequential – Executes code line by line from top to bottom"
   ]
  },
  {
   "cell_type": "code",
   "execution_count": 45,
   "id": "671daa6a-5d31-4d9f-9aad-0cc02b479cde",
   "metadata": {},
   "outputs": [
    {
     "name": "stdin",
     "output_type": "stream",
     "text": [
      " 20\n"
     ]
    },
    {
     "name": "stdout",
     "output_type": "stream",
     "text": [
      "You are an adult.\n"
     ]
    }
   ],
   "source": [
    "# II) Conditional(Executes code based on conditions)\n",
    "# Type - If, Elif , else and nested if. \n",
    "\n",
    "# If nd else \n",
    "age = int(input())\n",
    "if age >= 18:\n",
    "    print(\"You are an adult.\")\n",
    "else:\n",
    "    print(\"Bacha gadivi ra\")"
   ]
  },
  {
   "cell_type": "code",
   "execution_count": 46,
   "id": "66edcff6-cd1a-494e-91cc-f43968f40a27",
   "metadata": {},
   "outputs": [
    {
     "name": "stdin",
     "output_type": "stream",
     "text": [
      " 20\n"
     ]
    },
    {
     "name": "stdout",
     "output_type": "stream",
     "text": [
      "Sorry man\n"
     ]
    }
   ],
   "source": [
    "# If, Elif nd else.\n",
    "marks = int(input())\n",
    "\n",
    "if marks >= 90:\n",
    "    print(\"Abha Topper\")\n",
    "elif marks >= 75:\n",
    "    print(\"Hmm Avg\")\n",
    "elif marks >= 60:\n",
    "    print(\"Chadv ra boy\")\n",
    "else:\n",
    "    print(\"Sorry man\")\n"
   ]
  },
  {
   "cell_type": "code",
   "execution_count": 47,
   "id": "a8eed8c7-2237-4a23-b97f-a62818e7bcce",
   "metadata": {},
   "outputs": [
    {
     "name": "stdin",
     "output_type": "stream",
     "text": [
      " 20\n"
     ]
    },
    {
     "name": "stdout",
     "output_type": "stream",
     "text": [
      "Positive and divisible by 2\n"
     ]
    }
   ],
   "source": [
    "# Nested if(If inside If)\n",
    "\n",
    "#check if a given number is Positive and divisible by 2\n",
    "\n",
    "a= int(input())\n",
    "if a>=1:\n",
    "    if a%2 == 0: # Note - we shld use comparison operator(==) to check nd not assimt oppetator(=). \n",
    "        print(\"Positive and divisible by 2\")\n",
    "    else:\n",
    "        print(\"Positive but not divisible by 2\")\n",
    "else:\n",
    "    print(\"negative\")\n",
    "    \n"
   ]
  },
  {
   "cell_type": "code",
   "execution_count": 48,
   "id": "00b58ad1-4c0d-441a-af43-9bb7160c3d44",
   "metadata": {},
   "outputs": [
    {
     "name": "stdout",
     "output_type": "stream",
     "text": [
      "0,1,2,3,4,5,6,7,8,9,10,"
     ]
    },
    {
     "name": "stdin",
     "output_type": "stream",
     "text": [
      " 20\n"
     ]
    },
    {
     "name": "stdout",
     "output_type": "stream",
     "text": [
      "1,2,3,4,5,6,7,8,9,10,11,12,13,14,15,16,17,18,19,20,"
     ]
    }
   ],
   "source": [
    "# III) Iterative looping\n",
    "\n",
    "# for loop\n",
    "# print 10 numbers \n",
    "for i in range(11):\n",
    "    print (i,end=\",\")\n",
    "\n",
    "# while loop\n",
    "# print 10 numbers \n",
    "a= int(input())\n",
    "b=1\n",
    "while b<=a:\n",
    "    print(b,end=\",\")\n",
    "    b=b+1"
   ]
  },
  {
   "cell_type": "code",
   "execution_count": 49,
   "id": "6e468340-12b8-41d0-bd52-3e1f5b7b654b",
   "metadata": {},
   "outputs": [
    {
     "name": "stdout",
     "output_type": "stream",
     "text": [
      "1\n",
      "2\n",
      "3\n",
      "4\n",
      "6\n",
      "7\n"
     ]
    }
   ],
   "source": [
    "# IV)Jumping/loop control stmts\n",
    "# break(stop) , continue(skip that)... pass(...)\n",
    "\n",
    "# print 1 to 10, stops at 8 and skip 5 \n",
    "for i in range(1,10):   # 1,10 is to get numbers from 1, orelse it will come from 0,1,...\n",
    "    if i == 8:\n",
    "        break\n",
    "    if i == 5:\n",
    "        continue\n",
    "    else:\n",
    "        print(i)"
   ]
  },
  {
   "cell_type": "code",
   "execution_count": 50,
   "id": "66d8203f-9be9-4aa9-a9ea-2bda687676ff",
   "metadata": {},
   "outputs": [
    {
     "name": "stdin",
     "output_type": "stream",
     "text": [
      " 20\n"
     ]
    },
    {
     "name": "stdout",
     "output_type": "stream",
     "text": [
      "a is +ve\n"
     ]
    }
   ],
   "source": [
    "# some other practice qus ...\n",
    "a=int(input())  # Finding positive or negtaive number \n",
    "if a>=1:\n",
    "    print(\"a is +ve\")\n",
    "else:\n",
    "    print(\"-Ve\")"
   ]
  },
  {
   "cell_type": "code",
   "execution_count": 51,
   "id": "965ff147-e8be-4c31-8b76-44da905cfa59",
   "metadata": {},
   "outputs": [
    {
     "name": "stdout",
     "output_type": "stream",
     "text": [
      "0\n",
      "1\n",
      "2\n",
      "3\n"
     ]
    }
   ],
   "source": [
    "for i in range(4):\n",
    "    print(i)"
   ]
  },
  {
   "cell_type": "code",
   "execution_count": 52,
   "id": "d79d4bdc-a600-4b05-b418-7a8c938b4a6d",
   "metadata": {},
   "outputs": [
    {
     "name": "stdout",
     "output_type": "stream",
     "text": [
      "1\n",
      "2\n",
      "3\n",
      "4\n",
      "5\n",
      "6\n",
      "7\n"
     ]
    }
   ],
   "source": [
    "#print from 1 to 7 \n",
    "for i in range(1,8):\n",
    "    print(i)"
   ]
  },
  {
   "cell_type": "code",
   "execution_count": 53,
   "id": "e979e13e-6bdf-4d09-a2a2-abc17d49b767",
   "metadata": {},
   "outputs": [
    {
     "name": "stdout",
     "output_type": "stream",
     "text": [
      "Naveen"
     ]
    }
   ],
   "source": [
    "str=\"Naveen\"\n",
    "for a in str:\n",
    "    print(a,end=\"\")# end is used to write in same line instead of gng to new line "
   ]
  },
  {
   "cell_type": "code",
   "execution_count": 54,
   "id": "a8c8c5f9-bb84-459c-ac27-ec31cd32bdbb",
   "metadata": {},
   "outputs": [
    {
     "name": "stdout",
     "output_type": "stream",
     "text": [
      "a a a a "
     ]
    }
   ],
   "source": [
    "l=[10,20,30,40]\n",
    "for i in l:\n",
    "    print(\"a\",end=\" \")"
   ]
  },
  {
   "cell_type": "code",
   "execution_count": 55,
   "id": "5c4fd855-3f93-47bf-86f7-041e327355af",
   "metadata": {},
   "outputs": [
    {
     "name": "stdout",
     "output_type": "stream",
     "text": [
      "*****\n",
      "*\n",
      "*****\n",
      "*\n",
      "*****\n"
     ]
    }
   ],
   "source": [
    "# write letter E using For \n",
    "for i in range(5):\n",
    "    if i==0 or i==2 or i==4:\n",
    "        print(\"*\"*5)\n",
    "    else:\n",
    "        print(\"*\")"
   ]
  },
  {
   "cell_type": "code",
   "execution_count": 56,
   "id": "5c4f8331-e195-4031-a670-619e9f4284a3",
   "metadata": {},
   "outputs": [
    {
     "name": "stdout",
     "output_type": "stream",
     "text": [
      "*****"
     ]
    }
   ],
   "source": [
    "for i in range(5):\n",
    "    print(\"*\",end=\"\")\n",
    "    "
   ]
  },
  {
   "cell_type": "code",
   "execution_count": 57,
   "id": "9e6f35bc-cea2-4e59-8621-a7a0f811e7aa",
   "metadata": {},
   "outputs": [
    {
     "name": "stdout",
     "output_type": "stream",
     "text": [
      "0\n",
      "1\n",
      "2\n",
      "3\n",
      "5\n",
      "6\n"
     ]
    }
   ],
   "source": [
    "#Python program using a for loop from 0 to 9. \n",
    "#Skip printing the numbers 4 and 7.\n",
    "#Stop the loop completely when the number is 8.\n",
    "for i in range(10):\n",
    "    if i==4 or i==7:\n",
    "        continue\n",
    "    elif i==8:\n",
    "        break\n",
    "    else:\n",
    "        print(i)      "
   ]
  },
  {
   "cell_type": "code",
   "execution_count": null,
   "id": "768ec6fd-6b7d-4fba-b960-b8894fea6df4",
   "metadata": {},
   "outputs": [],
   "source": []
  },
  {
   "cell_type": "code",
   "execution_count": 58,
   "id": "9b4b7f80-0075-43ee-93d5-474ddd2f7132",
   "metadata": {},
   "outputs": [],
   "source": [
    "### list, tuple, string, sets nd dictionories "
   ]
  },
  {
   "cell_type": "code",
   "execution_count": 55,
   "id": "e7fb39f9-479e-43e3-aa66-16a934be9015",
   "metadata": {},
   "outputs": [
    {
     "name": "stdout",
     "output_type": "stream",
     "text": [
      "orange\n",
      "True\n",
      "['apple', 'grape', 'cherry', 'orange']\n",
      "['grape', 'cherry']\n",
      "['apple', 'mango', 'cherry', 'orange']\n"
     ]
    }
   ],
   "source": [
    "# List (mutable-modified like add,del,reasign etc..., also accessed using index)\n",
    "fruits = [\"apple\", \"banana\", \"cherry\"]\n",
    "fruits.append(\"orange\")    # adding(will add in the last position)\n",
    "fruits.insert(1, \"grape\")  # inserting at position \n",
    "fruits.remove(\"banana\")    # removing\n",
    "print(fruits[3])           # accessing \n",
    "print(\"apple\" in fruits)   # checking \n",
    "print (fruits)\n",
    "print (fruits[1:3])        # here the 1st number will be included in the output and the second number placed value will be excluded ***\n",
    "fruits[1]= \"mango\"         # mango will replace grape at position 1 \n",
    "print (fruits)\n"
   ]
  },
  {
   "cell_type": "code",
   "execution_count": 75,
   "id": "d68bb7c4-c920-4297-aaac-b84b77e333c5",
   "metadata": {},
   "outputs": [
    {
     "name": "stdout",
     "output_type": "stream",
     "text": [
      "blue\n",
      "<class 'int'>\n",
      "<class 'tuple'>\n"
     ]
    }
   ],
   "source": [
    "# tuple (imutable)\n",
    "colors = (\"red\", \"green\", \"blue\")\n",
    "print(colors[2])         # accessing \n",
    "x=(1)                    # this is int\n",
    "y=(1,)                   # this is tuple\n",
    "print(type(x))\n",
    "print(type(y))"
   ]
  },
  {
   "cell_type": "code",
   "execution_count": 73,
   "id": "c739ba3e-8732-493b-9bfb-0ff1b90830fc",
   "metadata": {},
   "outputs": [
    {
     "name": "stdout",
     "output_type": "stream",
     "text": [
      "e\n",
      "['hello', 'world']\n",
      "hello Python\n",
      "HELLO WORLD\n",
      "hello world\n",
      "Hello world\n",
      "Hello World\n",
      "hey\n",
      "True\n"
     ]
    }
   ],
   "source": [
    "# strings (imutable)\n",
    "text = \"hello world\"\n",
    "print(text[1])                          # e # accessing\n",
    "print(text.split())                     # spliting the sentence # ['hello', 'world']\n",
    "print(text.replace(\"world\", \"Python\"))  # to replace world with python\n",
    "print(text.upper())                     # Upper/lower case\n",
    "print(text.lower())\n",
    "print(text.capitalize())                # only 1st letter caps \n",
    "print(text.title())                     # all 1st letters caps \n",
    "j = [\"h\", \"e\", \"y\"]                     # hey # joining the elements \n",
    "print(\"\".join(j))  \n",
    "print(\"h\" in text)                      # checking the letter / membership (true/false)\n"
   ]
  },
  {
   "cell_type": "code",
   "execution_count": 71,
   "id": "554fc2c5-a2ed-4455-849d-9c698c2e7d69",
   "metadata": {},
   "outputs": [
    {
     "name": "stdout",
     "output_type": "stream",
     "text": [
      "{1, 3, 4, 5, 6}\n",
      "{3}\n",
      "{1, 6}\n",
      "1 3 6 "
     ]
    }
   ],
   "source": [
    "# sets (mutable but no order so no indexing)\n",
    "a = {1, 2, 3}\n",
    "b = {3, 4, 5}\n",
    "a.add(6)\n",
    "a.remove(2)\n",
    "print(a|b)          # Union(joins both,but repeated value will come only once) # {1, 3, 4, 5, 6}\n",
    "print(a & b)        # Intersection(gives the element) # {3}\n",
    "print(a - b)        # diff = {1, 6}\n",
    "for i in a:\n",
    "    print (i,end=\" \") # looping "
   ]
  },
  {
   "cell_type": "code",
   "execution_count": 69,
   "id": "e5425a6c-84f1-4bf9-8642-99be1104f762",
   "metadata": {},
   "outputs": [
    {
     "name": "stdout",
     "output_type": "stream",
     "text": [
      "Naveen\n",
      "{'name': 'Naveen', 'city': 'Dallas'}\n",
      "Naveen\n",
      "not found\n"
     ]
    }
   ],
   "source": [
    "# dictionories (items not elements - Key:value , idexing with keys) \n",
    "person = {\"name\": \"Naveen\", \"age\": 25}\n",
    "print(person[\"name\"])       # accessing \n",
    "person[\"city\"] = \"Dallas\"   # adding\n",
    "person[\"age\"] = 26          # updating \n",
    "person.pop(\"age\")           # removing\n",
    "print (person)\n",
    "print(person.get(\"name\"))\n",
    "print(person.get(\"gender\",\"not found\")) # if u dont mention not found then \"none\" output will come "
   ]
  },
  {
   "cell_type": "code",
   "execution_count": 111,
   "id": "96e2ca6c-f6c4-420a-8ee0-66b81dbaae83",
   "metadata": {},
   "outputs": [
    {
     "name": "stdout",
     "output_type": "stream",
     "text": [
      "5.0\n",
      "Square root of 25: 5.0\n",
      "Power 2^3: 8.0\n",
      "Factorial of 5: 120\n",
      "Floor of 3.7: 3\n",
      "Sin 90°: 1.0\n",
      "Value of pi: 3.141592653589793\n"
     ]
    },
    {
     "data": {
      "text/plain": [
       "' hello this \\nasdbhd asbsb '"
      ]
     },
     "execution_count": 111,
     "metadata": {},
     "output_type": "execute_result"
    }
   ],
   "source": [
    "### Math module for mathematical operations like square root, factorial, trigonometry, logarithm, and constants like pi nd e.\n",
    "import math # importing the function\n",
    "a=math.sqrt(25)\n",
    "print(a)\n",
    "print(\"Square root of 25:\", math.sqrt(25))\n",
    "print(\"Power 2^3:\", math.pow(2, 3))\n",
    "print(\"Factorial of 5:\", math.factorial(5))\n",
    "print(\"Floor of 3.7:\", math.floor(3.7))\n",
    "print(\"Sin 90°:\", math.sin(math.radians(90)))\n",
    "print(\"Value of pi:\", math.pi)\n",
    "math.sin(x) # trigonometry \n",
    "math.cos(x)\n",
    "math.tan(x)\n",
    "math.log(x) #log\n",
    "''' hello this \n",
    "asdbhd asbsb '''\n",
    "\n"
   ]
  },
  {
   "cell_type": "code",
   "execution_count": null,
   "id": "3131524f-fb39-4515-86fa-4571b4d0b6aa",
   "metadata": {},
   "outputs": [],
   "source": []
  },
  {
   "cell_type": "code",
   "execution_count": 27,
   "id": "8417e020-bd1f-4247-a544-b06f7d8047b8",
   "metadata": {},
   "outputs": [
    {
     "name": "stdout",
     "output_type": "stream",
     "text": [
      "hello boss\n",
      "hello Naveen\n",
      "Hello Raju\n",
      "Hello Naveen\n",
      "7\n"
     ]
    },
    {
     "name": "stdin",
     "output_type": "stream",
     "text": [
      " 10\n",
      " 20\n"
     ]
    },
    {
     "name": "stdout",
     "output_type": "stream",
     "text": [
      "30\n"
     ]
    }
   ],
   "source": [
    "### Functions/Methos (reusable block of code that performs a specific task)\n",
    "\n",
    "# Structure\n",
    "# def function_name(parameters):\n",
    "    # code block\n",
    "    # return result (optional)\n",
    "\n",
    "def a():                   # def the function\n",
    "    print(\"hello boss\")    \n",
    "a()                        # calling it\n",
    "\n",
    "def b(name):               # defining with parameter \n",
    "    print(\"hello\", name)\n",
    "b(\"Naveen\")                # calling it with giving argument \n",
    "\n",
    "def c(name=\"Raju\"):\n",
    "    print(\"Hello\",name)\n",
    "c()                        # takes the default \n",
    "c(\"Naveen\")                # overrides the default and takes \"Naveen\"\n",
    "\n",
    "\n",
    "# Some builtin functions = print(), len(), input().... \n",
    "# some use-defined = add(a,b)... all others what ever u r seeing here(above,below...eg= b(name), c(.... all this r user defined))\n"
   ]
  },
  {
   "cell_type": "code",
   "execution_count": 39,
   "id": "a9d1e3bb-56c0-48f5-a214-4805f79323cb",
   "metadata": {},
   "outputs": [
    {
     "name": "stdout",
     "output_type": "stream",
     "text": [
      "7\n"
     ]
    },
    {
     "name": "stdin",
     "output_type": "stream",
     "text": [
      " 1\n",
      " 1\n"
     ]
    },
    {
     "name": "stdout",
     "output_type": "stream",
     "text": [
      "2\n",
      "even\n",
      "x is  even\n",
      "y is  None\n"
     ]
    }
   ],
   "source": [
    "# creating adding function (so we can use \"add\" if we want to add two values)\n",
    "def add(a,b):              # def funtion with resturn value\n",
    "    return a+b\n",
    "result=add(5,2)            # giving the values\n",
    "print(result)    \n",
    "\n",
    "#other way for the above qus \n",
    "def add(a,b):             ### NOTE= but dont use print like here because it will not store the value it will just show the results so difficult\n",
    "    print(a+b)            # when using in further logic (see below for example)\n",
    "add(int(input()),int(input()))\n",
    "\n",
    "# see for example -\n",
    "def withreturn(a):\n",
    "    if a%2==0:\n",
    "        return \"even\"\n",
    "    else:\n",
    "        return \"odd\"\n",
    "def withprint(a):\n",
    "    if a%2==0:\n",
    "        print(\"even\")\n",
    "    else:\n",
    "        print(\"odd\")\n",
    "x=withreturn(4)\n",
    "y=withprint(4)\n",
    "print(\"x is \",x)\n",
    "print(\"y is \",y)     # prints y is none as value is not stored in y .. it just shows even (result as the internal print works, so it gives even output)\n",
    "\n"
   ]
  },
  {
   "cell_type": "code",
   "execution_count": 49,
   "id": "f1a39fa8-473c-4c6c-89be-628e5d6f0a61",
   "metadata": {},
   "outputs": [
    {
     "name": "stdout",
     "output_type": "stream",
     "text": [
      "16\n",
      "30\n"
     ]
    }
   ],
   "source": [
    "# Lambda functions(Simple one liners )\n",
    "sq=lambda x:x**2 # using lambda keyword \n",
    "print(sq(4))\n",
    "\n",
    "add=lambda a,b:a+b\n",
    "print(add(10,20))\n"
   ]
  },
  {
   "cell_type": "code",
   "execution_count": 3,
   "id": "4a537d2a-cdea-471f-a0f0-8096cc007d46",
   "metadata": {},
   "outputs": [
    {
     "name": "stdout",
     "output_type": "stream",
     "text": [
      "Hello Naveen\n",
      "Hello Naveen\n",
      "Hello Naveen\n"
     ]
    }
   ],
   "source": [
    "# Local and global variables in functions \n",
    "\n",
    "def n():\n",
    "    name = \"Naveen\"   # Local variable\n",
    "    print(\"Hello\", name)\n",
    "\n",
    "n()             \n",
    "# print(name) = This will give an error (name is not defined)\n",
    "\n",
    "\n",
    "name = \"Naveen\"       # Global variable\n",
    "def n():\n",
    "    print(\"Hello\", name)\n",
    "\n",
    "n()      \n",
    "\n",
    "def n():\n",
    "    global name       # defining global variable inside function\n",
    "    name = \"Naveen\" \n",
    "    print(\"Hello\", name)\n",
    "\n",
    "n()  \n"
   ]
  },
  {
   "cell_type": "code",
   "execution_count": null,
   "id": "e030f762-9f20-4b8c-9c2a-ab2a254e2694",
   "metadata": {},
   "outputs": [],
   "source": []
  },
  {
   "cell_type": "code",
   "execution_count": 33,
   "id": "81cf191d-285a-461c-8420-bef1f96384ca",
   "metadata": {},
   "outputs": [
    {
     "name": "stdout",
     "output_type": "stream",
     "text": [
      "conent ochesi=\n",
      " Namasthe mirton\n",
      "kaise ho\n",
      "Namasthe mirton\n",
      "kaise ho\n",
      "chudam em add avdho\n",
      "File exists\n"
     ]
    }
   ],
   "source": [
    "# Files (to Open,Read/Write,Close)\n",
    "# \"r\"=Read (default), \"w\"=Write (overwrites), \"a\"=Append (adds to end), \"x\"=Create (fails if file exists),\"r+\"=Read + Write\n",
    "\n",
    "file = open(\"sample.txt\", \"w\")  # opening/creating a file to write \n",
    "file.write(\"Namasthe mirton\\n\") # writing into file \n",
    "file.write(\"kaise ho\")\n",
    "file.close()\n",
    "\n",
    "file=open(\"sample.txt\",\"r\")  # opening to read \n",
    "a=file.read()                # reading the file \n",
    "print(\"conent ochesi=\\n\",a)  \n",
    "file.close()\n",
    "\n",
    "file = open(\"sample.txt\", \"a\")  # to add something at the end \n",
    "file.write(\"\\nchudam em add avdho\")\n",
    "file.close()\n",
    "\n",
    "with open(\"sample.txt\",\"r\") as file:  # using with so that close() is not required \n",
    "    a=file.read()\n",
    "    print(a)\n",
    "\n",
    "import os\n",
    "if os.path.exists(\"sample.txt\"):   # checking if the file exists already or not \n",
    "    print(\"File exists\")\n",
    "else:\n",
    "    print(\"File not found\")"
   ]
  },
  {
   "cell_type": "code",
   "execution_count": 45,
   "id": "ddef51f7-174a-4d93-90bd-04c07dd05fb6",
   "metadata": {},
   "outputs": [],
   "source": [
    "# some other practice questions \n",
    "fo=open(\"Naveen.text\",\"w\")\n",
    "fo.write(\"Hey this is my file created using python code\")\n",
    "fo.close()\n"
   ]
  },
  {
   "cell_type": "code",
   "execution_count": null,
   "id": "3a1569e1-6d0a-452e-b682-69e727ff3014",
   "metadata": {},
   "outputs": [],
   "source": [
    "fo = open(\"Naveen.txt\", \"w\")  \n",
    "fo.write(\"Hey this is my file created using python code\")  \n",
    "fo.close()  # Closing ensures data is saved properly\n"
   ]
  },
  {
   "cell_type": "code",
   "execution_count": null,
   "id": "e3162ba1-91c4-46b6-a01d-ab5423a4e85d",
   "metadata": {},
   "outputs": [],
   "source": [
    "fo=open(\"New.txt\",\"w\")\n",
    "fo.write(\"hello\")\n",
    "fo.close()"
   ]
  },
  {
   "cell_type": "code",
   "execution_count": null,
   "id": "da65ce79-1de7-4700-8e7b-18fd54524176",
   "metadata": {},
   "outputs": [],
   "source": [
    "fo=open(\"New.txt\",\"r\")\n",
    "a=fo.read()\n",
    "print(a)\n",
    "fo.close()"
   ]
  },
  {
   "cell_type": "code",
   "execution_count": null,
   "id": "73c89dda-d5b2-4f0b-978e-df2989e94452",
   "metadata": {},
   "outputs": [],
   "source": [
    "### Modules \n",
    "\n",
    "import Calculations\n",
    "x=int(input())\n",
    "y=int(input())\n",
    "Calculations.sub(x,y)\n"
   ]
  },
  {
   "cell_type": "code",
   "execution_count": null,
   "id": "81f2d925-aaf0-43cf-8121-c2d9c85b57be",
   "metadata": {},
   "outputs": [],
   "source": []
  },
  {
   "cell_type": "code",
   "execution_count": 65,
   "id": "10182bbe-b03d-4b84-94cf-7804a2ae3f79",
   "metadata": {},
   "outputs": [
    {
     "name": "stdout",
     "output_type": "stream",
     "text": [
      "name is Naveen and age is 25\n",
      "name is Hari and age is 28\n"
     ]
    }
   ],
   "source": [
    "### OOPS(Object-Oriented Programming) \n",
    "# Class,Objects # Encapsulation # Inheritance # Polymorphism # Abstraction\n",
    "\n",
    "# Class(Blueprint to create objects) and Objects(instances of class)\n",
    "\n",
    "class Student:\n",
    "    def __init__(self,name,age):      # we use init(constructor) to just initiate which attributes will be there , self(refers current object being created or accessed)\n",
    "        self.name= name\n",
    "        self.age= age\n",
    "\n",
    "    def toprint(self):                # creating function to print the details for obly required students \n",
    "        print(\"name is\",self.name, \"and age is\",self.age)\n",
    "s1=Student(\"Naveen\",25)\n",
    "s2=Student(\"Hari\",28)                 # till here it will just save the data and will not give any output  \n",
    "s1.toprint()                          # this will print the s1 details \n",
    "s2.toprint()                          # same way for s2 details that's it is better to create print in different function instead of __init__ function\n",
    "        \n"
   ]
  },
  {
   "cell_type": "code",
   "execution_count": 113,
   "id": "502b36f1-9778-432a-b9ec-adbcd57c3c9e",
   "metadata": {},
   "outputs": [
    {
     "name": "stdout",
     "output_type": "stream",
     "text": [
      "Dog barks\n",
      "Parent class\n",
      "Method A\n",
      "Thatha\n",
      "Nana\n"
     ]
    }
   ],
   "source": [
    "# Inheritance \n",
    "# (Single, Multiple, Multilevel, Hierarchical, Hybrid)\n",
    "\n",
    "class Animal:                   # Basic\n",
    "    def speak(self):\n",
    "        print(\"Animal speaks\")\n",
    "class Dog(Animal):\n",
    "    def speak(self):\n",
    "        print(\"Dog barks\")\n",
    "d = Dog()\n",
    "d.speak()    \n",
    "\n",
    "# Single (one derived class from one base class)\n",
    "class Parent:                   \n",
    "    def func(self):\n",
    "        print(\"Parent class\")\n",
    "\n",
    "class Child(Parent):\n",
    "    def show(self):\n",
    "        print(\"Child class\")\n",
    "a=Child()                      # witht the onject created for chid we can access functions of child but NOT vise-versa \n",
    "a.func()                       # see her child class accesing function from parent # \n",
    "\n",
    "# Multiple (one derived class from more than one parent class)\n",
    "class A:                       \n",
    "    def methodA(self):\n",
    "        print(\"Method A\")\n",
    "\n",
    "class B:\n",
    "    def methodB(self):\n",
    "        print(\"Method B\")\n",
    "\n",
    "class C(A, B):             # child class \n",
    "    pass\n",
    "\n",
    "x=C()                       # here only object for child can access both a and b, But object for parent A cant access parent B ###\n",
    "x.methodA()\n",
    "\n",
    "# Multilevel (Grand-son , Father and Grand-Father)\n",
    "class GP:\n",
    "    def GPfunc(self):\n",
    "        print(\"Thatha\")\n",
    "class P(GP):\n",
    "    def Pfunc(self):\n",
    "        print(\"Nana\")\n",
    "class C(P):\n",
    "    def Cfunc(self):\n",
    "        print(\"Beta\")\n",
    "\n",
    "x=P()                       # here object with p CANT access c, object with c CAN access both p and gp , object with gp cant access anything ...\n",
    "y=C()\n",
    "x.GPfunc()    # P's object accessing GP's function \n",
    "y.Pfunc()\n",
    "\n",
    "# Hierarchical (Mulitple Childs from Single Parent)\n",
    "class Parent:                               # here object with C1 can access parent but not C2 functions .. same way for C2 aswell.\n",
    "    def parent_method(self):\n",
    "        print(\"Parent\")\n",
    "\n",
    "class Child1(Parent):\n",
    "    def child1_method(self):\n",
    "        print(\"Child 1\")\n",
    "\n",
    "class Child2(Parent):\n",
    "    def child2_method(self):\n",
    "        print(\"Child 2\")\n",
    "\n",
    "# Hybrid (Multiple parents(father,Mother) single child)\n",
    "\n"
   ]
  },
  {
   "cell_type": "code",
   "execution_count": 123,
   "id": "d817e3e5-7829-4fd2-ac22-7e31e3bcb19b",
   "metadata": {},
   "outputs": [
    {
     "name": "stdout",
     "output_type": "stream",
     "text": [
      "Dog barks\n",
      "Cat meows\n",
      "5\n",
      "9\n",
      "Area = π × r × r\n",
      "Area = length × breadth\n"
     ]
    }
   ],
   "source": [
    "# Polymorphism (call the same method on different objects or redefine it in child classes)\n",
    "#  overloading and overriding \n",
    "class Animal:\n",
    "    def speak(self):\n",
    "        print(\"Animal speaks\")\n",
    "\n",
    "class Dog(Animal):\n",
    "    def speak(self):\n",
    "        print(\"Dog barks\")\n",
    "\n",
    "class Cat(Animal):\n",
    "    def speak(self):\n",
    "        print(\"Cat meows\")\n",
    "\n",
    "for animal in (Dog(), Cat()):\n",
    "    animal.speak()\n",
    "\n",
    "\n",
    "def add(x, y, z=0):\n",
    "    return x + y + z\n",
    "\n",
    "print(add(2, 3))       \n",
    "print(add(2, 3, 4))    \n",
    "\n",
    "class Circle:\n",
    "    def area(self):\n",
    "        print(\"Area = π × r × r\")\n",
    "\n",
    "class Rectangle:\n",
    "    def area(self):\n",
    "        print(\"Area = length × breadth\")\n",
    "\n",
    "for shape in (Circle(), Rectangle()):\n",
    "    shape.area()"
   ]
  },
  {
   "cell_type": "code",
   "execution_count": null,
   "id": "f7eba10f-809a-4782-b134-4b2657c37d06",
   "metadata": {},
   "outputs": [],
   "source": [
    "# encapsulation"
   ]
  },
  {
   "cell_type": "code",
   "execution_count": null,
   "id": "438fecef-7cad-4bf7-a9e8-98c4d65af7da",
   "metadata": {},
   "outputs": [],
   "source": [
    "# abstraction"
   ]
  },
  {
   "cell_type": "code",
   "execution_count": null,
   "id": "357e72d2-fa07-4a64-94c1-f05183b836eb",
   "metadata": {},
   "outputs": [],
   "source": [
    "# some other questions \n",
    "class human:\n",
    "    def __init__(self,c,h):\n",
    "        self.colour=c\n",
    "        self.height=h\n",
    "Naveen=human(\"yellow\",6)\n",
    "Koushik=human(\"white\",6)\n",
    "print(\"Naveen\",\"=\",Naveen.colour,Naveen.height, \"\\nKoushik\",\"=\",Koushik.colour,Koushik.height,end=\"\")"
   ]
  },
  {
   "cell_type": "code",
   "execution_count": null,
   "id": "16e688c4-3d27-415c-bfa0-5d5cb90b7c87",
   "metadata": {},
   "outputs": [],
   "source": [
    "print(\"helle How r u\")"
   ]
  },
  {
   "cell_type": "code",
   "execution_count": 115,
   "id": "230395b2-7fbf-475a-9dfb-1bc6bf4eb6d5",
   "metadata": {},
   "outputs": [
    {
     "name": "stdout",
     "output_type": "stream",
     "text": [
      "Naveen = yellow 6 \n",
      "Koushik = white 6\n",
      "Naveen running\n"
     ]
    }
   ],
   "source": [
    "class human:\n",
    "    def __init__(self,c,h):\n",
    "        self.colour=c\n",
    "        self.height=h\n",
    "    def run(self,n):\n",
    "        print(n,\"running\")\n",
    "Naveen=human(\"yellow\",6)\n",
    "Koushik=human(\"white\",6)\n",
    "print(\"Naveen\",\"=\",Naveen.colour,Naveen.height, \"\\nKoushik\",\"=\",Koushik.colour,Koushik.height)\n",
    "Naveen.run(\"Naveen\")\n"
   ]
  },
  {
   "cell_type": "code",
   "execution_count": null,
   "id": "d99f624c-9f3a-4b12-996c-a1868da223bf",
   "metadata": {},
   "outputs": [],
   "source": [
    "class animal:\n",
    "    def sound(self):\n",
    "        print(\"animal makes sound\")\n",
    "class dog(animal):\n",
    "    def barks(self):\n",
    "        print(\"dog barks\")\n",
    "Tommy=dog()\n",
    "Tommy.sound()\n",
    "Tommy.barks()\n",
    "    \n",
    "    "
   ]
  },
  {
   "cell_type": "code",
   "execution_count": null,
   "id": "3e280670-f45d-42b1-bdca-f9a44481c6f3",
   "metadata": {},
   "outputs": [],
   "source": [
    "class Bankaccount:\n",
    "    def __init__(self,account_holder, balance=0):\n",
    "        self.account_holder = account_holder\n",
    "        self.balance"
   ]
  },
  {
   "cell_type": "code",
   "execution_count": null,
   "id": "a16c69d1-ba82-49fd-be39-f764df8cd680",
   "metadata": {},
   "outputs": [],
   "source": [
    "class bankacc:\n",
    "    def __init__(self,acc h,bls):\n",
    "        self.accholder=acc\n",
    "        self.bls=bls"
   ]
  },
  {
   "cell_type": "code",
   "execution_count": null,
   "id": "9c5e5f7a-171a-4c0c-aefa-727706c0cecc",
   "metadata": {},
   "outputs": [],
   "source": [
    "class human:\n",
    "    def __init__(self,c):\n",
    "        self.colour=c\n",
    "Naveen=human(\"yellow\")\n",
    "print(Naveen.colour)"
   ]
  },
  {
   "cell_type": "code",
   "execution_count": null,
   "id": "bbf7322a-39b3-43c2-b2fd-6c40ef63e4cf",
   "metadata": {},
   "outputs": [],
   "source": [
    "class human:\n",
    "    def __init__(self,n):\n",
    "        self.name=n\n",
    "person=human(\"Naveen\")\n",
    "print(person.name)"
   ]
  },
  {
   "cell_type": "code",
   "execution_count": 117,
   "id": "6afcd60e-04d1-40a4-b44c-6c171f7a8f10",
   "metadata": {},
   "outputs": [
    {
     "name": "stdout",
     "output_type": "stream",
     "text": [
      "Deposite successful 1000\n",
      "withdrawel successfull bls is 800\n"
     ]
    }
   ],
   "source": [
    "class bankacc:\n",
    "    def __init__(self,acch,bls):\n",
    "        self.accholder=acch\n",
    "        self.bls=bls\n",
    "    def deposit(self,amount):\n",
    "        self.bls=amount+self.bls\n",
    "        print(\"Deposite successful\",self.bls)\n",
    "    def withdrawel(self,amount2):\n",
    "        if self.bls>=amount2:\n",
    "            self.bls=self.bls-amount2\n",
    "            print(\"withdrawel successfull bls is\",self.bls)\n",
    "        else:\n",
    "            print(\"Insufficient bls\")\n",
    "account = bankacc(\"Naveen\",0)\n",
    "account.deposit(1000)\n",
    "account.withdrawel(200)\n",
    "\n"
   ]
  },
  {
   "cell_type": "code",
   "execution_count": null,
   "id": "554b59b5-9fb5-4a44-a9e6-6ea696bb2e33",
   "metadata": {},
   "outputs": [],
   "source": [
    "class bankacc():\n",
    "    def __init__(self,name,bls):\n",
    "        self.name=name\n",
    "        self.bls=bls\n",
    "    def deposit(self,amount):\n",
    "        self.bls=self.bls+amount\n",
    "        print(\"amount deposited bls is\",self.bls)\n",
    "    def withdrawel(self,amount2):\n",
    "        if self.bls>=amount2:\n",
    "            self.bls=self.bls-amount2\n",
    "            print(\"withdrawel successfull bls is\", self.bls)\n",
    "        else:\n",
    "            print(\"insufficient funs\")\n",
    "acc = bankacc(\"naveen\",0)\n",
    "\n",
    "\n",
    "acc.withdrawel(1)"
   ]
  },
  {
   "cell_type": "code",
   "execution_count": null,
   "id": "63568476-54b6-4590-aa7c-f6c8483a8a6a",
   "metadata": {},
   "outputs": [],
   "source": [
    "class human:\n",
    "    def __init__(self,n,h):\n",
    "        self.name = n\n",
    "        self.height = h\n",
    "  \n",
    "person1 = human(\"Naveen\",6)\n",
    "print(person1.name,person1.height)"
   ]
  },
  {
   "cell_type": "code",
   "execution_count": null,
   "id": "ab69e90c-7385-48aa-97dc-b4b46c7d93a2",
   "metadata": {},
   "outputs": [],
   "source": [
    "class bank:\n",
    "    def __init__(self,accn,bls):\n",
    "        self.accname = accn\n",
    "        self.bls = bls\n",
    "    def deposit(self,amt):\n",
    "        self.bls=self.bls+amt\n",
    "        print(\"deposit success bls is\",self.bls)\n",
    "    def withdrawel(self,amt2):\n",
    "        if amt2<=self.bls:\n",
    "            self.bls = self.bls-amt2\n",
    "            print(\"withdrawn new bls is\",self.bls)\n",
    "        else:\n",
    "            print(\"insufficient\")\n",
    "account= bank(\"Naveen\",0)\n",
    "\n",
    "account.deposit(1000)\n",
    "account.withdrawel(500)\n",
    "account.withdrawel(200)\n",
    "account.withdrawel(400)"
   ]
  },
  {
   "cell_type": "code",
   "execution_count": null,
   "id": "1be77e90-8b1c-46d9-8d82-d7886bc4e544",
   "metadata": {},
   "outputs": [],
   "source": []
  },
  {
   "cell_type": "code",
   "execution_count": null,
   "id": "2034fb8b-5bf0-4522-9c11-97ee4176e611",
   "metadata": {},
   "outputs": [],
   "source": []
  }
 ],
 "metadata": {
  "kernelspec": {
   "display_name": "Python [conda env:base] *",
   "language": "python",
   "name": "conda-base-py"
  },
  "language_info": {
   "codemirror_mode": {
    "name": "ipython",
    "version": 3
   },
   "file_extension": ".py",
   "mimetype": "text/x-python",
   "name": "python",
   "nbconvert_exporter": "python",
   "pygments_lexer": "ipython3",
   "version": "3.12.7"
  }
 },
 "nbformat": 4,
 "nbformat_minor": 5
}
